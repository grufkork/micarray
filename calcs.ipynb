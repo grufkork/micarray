{
 "cells": [
  {
   "cell_type": "code",
   "execution_count": 1,
   "metadata": {},
   "outputs": [],
   "source": [
    "import numpy as np"
   ]
  },
  {
   "cell_type": "code",
   "execution_count": 17,
   "metadata": {},
   "outputs": [
    {
     "data": {
      "text/plain": [
       "array([[-60.80868739, -12.09559996,  78.75      ],\n",
       "       [-51.55111596, -34.44535445,  56.25      ],\n",
       "       [-34.44535445, -51.55111596,  33.75      ],\n",
       "       [-12.09559996, -60.80868739,  11.25      ]])"
      ]
     },
     "execution_count": 17,
     "metadata": {},
     "output_type": "execute_result"
    }
   ],
   "source": [
    "angles = np.array([1, 3, 5, 7])*np.pi/16\n",
    "\n",
    "r = 62\n",
    "\n",
    "x = -np.cos(angles)*r\n",
    "y = -np.sin(angles)*r\n",
    "rot = -angles/2/np.pi*360 + 90\n",
    "\n",
    "positions = np.array([x, y, rot]).T\n",
    "positions"
   ]
  },
  {
   "cell_type": "code",
   "execution_count": null,
   "metadata": {},
   "outputs": [],
   "source": []
  }
 ],
 "metadata": {
  "kernelspec": {
   "display_name": "Python 3",
   "language": "python",
   "name": "python3"
  },
  "language_info": {
   "codemirror_mode": {
    "name": "ipython",
    "version": 3
   },
   "file_extension": ".py",
   "mimetype": "text/x-python",
   "name": "python",
   "nbconvert_exporter": "python",
   "pygments_lexer": "ipython3",
   "version": "3.11.5"
  }
 },
 "nbformat": 4,
 "nbformat_minor": 2
}
